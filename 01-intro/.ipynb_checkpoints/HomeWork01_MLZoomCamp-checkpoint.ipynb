{
 "cells": [
  {
   "cell_type": "code",
   "execution_count": 41,
   "id": "601e224b-47af-4b1b-881f-312973712341",
   "metadata": {},
   "outputs": [
    {
     "name": "stdout",
     "output_type": "stream",
     "text": [
      " The Version of Panda is :  2.2.2\n"
     ]
    }
   ],
   "source": [
    "import pandas as pd\n",
    "import numpy as np\n",
    "print( \" The Version of Panda is : \" , pd.__version__)"
   ]
  },
  {
   "cell_type": "code",
   "execution_count": 42,
   "id": "62ce2ad3-3e80-4165-9c90-f7434fe2e9c5",
   "metadata": {},
   "outputs": [
    {
     "name": "stdout",
     "output_type": "stream",
     "text": [
      "Dataset loaded from laptops.csv\n",
      "                                              Laptop Status   Brand  \\\n",
      "0  ASUS ExpertBook B1 B1502CBA-EJ0436X Intel Core...    New    Asus   \n",
      "1  Alurin Go Start Intel Celeron N4020/8GB/256GB ...    New  Alurin   \n",
      "2  ASUS ExpertBook B1 B1502CBA-EJ0424X Intel Core...    New    Asus   \n",
      "3  MSI Katana GF66 12UC-082XES Intel Core i7-1270...    New     MSI   \n",
      "4  HP 15S-FQ5085NS Intel Core i5-1235U/16GB/512GB...    New      HP   \n",
      "\n",
      "        Model            CPU  RAM  Storage Storage type       GPU  Screen  \\\n",
      "0  ExpertBook  Intel Core i5    8      512          SSD       NaN    15.6   \n",
      "1          Go  Intel Celeron    8      256          SSD       NaN    15.6   \n",
      "2  ExpertBook  Intel Core i3    8      256          SSD       NaN    15.6   \n",
      "3      Katana  Intel Core i7   16     1000          SSD  RTX 3050    15.6   \n",
      "4         15S  Intel Core i5   16      512          SSD       NaN    15.6   \n",
      "\n",
      "  Touch  Final Price  \n",
      "0    No      1009.00  \n",
      "1    No       299.00  \n",
      "2    No       789.00  \n",
      "3    No      1199.00  \n",
      "4    No       669.01  \n"
     ]
    }
   ],
   "source": [
    "import os\n",
    "import pandas as pd\n",
    "\n",
    "# Define the URL and the filename\n",
    "url = \"https://raw.githubusercontent.com/alexeygrigorev/datasets/master/laptops.csv\"\n",
    "filename = \"laptops.csv\"\n",
    "\n",
    "# Check if the file already exists\n",
    "if not os.path.exists(filename):\n",
    "    # If it doesn't exist, download it\n",
    "    df = pd.read_csv(url)\n",
    "    df.to_csv(filename, index=False)  # Save the DataFrame to a CSV file\n",
    "    print(\"Dataset downloaded and saved as\", filename)\n",
    "else:\n",
    "    # If it exists, load it from the local file\n",
    "    df = pd.read_csv(filename)\n",
    "    print(\"Dataset loaded from\", filename)\n",
    "\n",
    "# Display the first few rows of the DataFrame\n",
    "print(df.head())"
   ]
  },
  {
   "cell_type": "code",
   "execution_count": 43,
   "id": "bdd5fdc4-2f8c-4929-aa5b-cff52e5df572",
   "metadata": {},
   "outputs": [
    {
     "name": "stdout",
     "output_type": "stream",
     "text": [
      "The Total Recordes of dataset is : 2160\n"
     ]
    }
   ],
   "source": [
    "print (\"The Total Recordes of dataset is :\" , len(df))"
   ]
  },
  {
   "cell_type": "code",
   "execution_count": 44,
   "id": "e3c27b87-259c-4df7-b5a1-f9e24a806a12",
   "metadata": {},
   "outputs": [
    {
     "name": "stdout",
     "output_type": "stream",
     "text": [
      "<class 'pandas.core.frame.DataFrame'>\n",
      "RangeIndex: 2160 entries, 0 to 2159\n",
      "Data columns (total 12 columns):\n",
      " #   Column        Non-Null Count  Dtype  \n",
      "---  ------        --------------  -----  \n",
      " 0   Laptop        2160 non-null   object \n",
      " 1   Status        2160 non-null   object \n",
      " 2   Brand         2160 non-null   object \n",
      " 3   Model         2160 non-null   object \n",
      " 4   CPU           2160 non-null   object \n",
      " 5   RAM           2160 non-null   int64  \n",
      " 6   Storage       2160 non-null   int64  \n",
      " 7   Storage type  2118 non-null   object \n",
      " 8   GPU           789 non-null    object \n",
      " 9   Screen        2156 non-null   float64\n",
      " 10  Touch         2160 non-null   object \n",
      " 11  Final Price   2160 non-null   float64\n",
      "dtypes: float64(2), int64(2), object(8)\n",
      "memory usage: 202.6+ KB\n"
     ]
    }
   ],
   "source": [
    "df.info()"
   ]
  },
  {
   "cell_type": "code",
   "execution_count": 45,
   "id": "45b924ad-0011-45fe-9765-6e3a1b4e6b45",
   "metadata": {},
   "outputs": [
    {
     "name": "stdout",
     "output_type": "stream",
     "text": [
      "The 27 Brands are in Dataset\n"
     ]
    }
   ],
   "source": [
    "print ( f\"The {len(df.Brand.value_counts())} Brands are in Dataset\")"
   ]
  },
  {
   "cell_type": "code",
   "execution_count": 46,
   "id": "af7ed79a-fe26-47dc-82db-0c051de53300",
   "metadata": {},
   "outputs": [
    {
     "name": "stdout",
     "output_type": "stream",
     "text": [
      "The number of columns with missing values is :  3\n"
     ]
    }
   ],
   "source": [
    "df_missing = df.isnull().sum()\n",
    "print (\"The number of columns with missing values is : \" , len(df_missing[df_missing !=0]))"
   ]
  },
  {
   "cell_type": "code",
   "execution_count": 47,
   "id": "0c1f0f9c-6dc7-4936-8728-c51e227effce",
   "metadata": {},
   "outputs": [
    {
     "name": "stdout",
     "output_type": "stream",
     "text": [
      "The maximum final price of Dell notebooks in the dataset  3936\n"
     ]
    }
   ],
   "source": [
    "# What's the maximum final price of Dell notebooks in the dataset?\n",
    "print( \"The maximum final price of Dell notebooks in the dataset \" ,int(df[ df[\"Brand\"] == \"Dell\"][\"Final Price\"].max()))"
   ]
  },
  {
   "cell_type": "code",
   "execution_count": 48,
   "id": "bc5cff5d-b749-4a3d-b5b1-cb3eb326f23c",
   "metadata": {},
   "outputs": [
    {
     "data": {
      "text/plain": [
       "np.float64(15.6)"
      ]
     },
     "execution_count": 48,
     "metadata": {},
     "output_type": "execute_result"
    }
   ],
   "source": [
    "df[\"Screen\"].median()"
   ]
  },
  {
   "cell_type": "code",
   "execution_count": 49,
   "id": "591c5b16-3e2f-47d5-af22-e2beda931207",
   "metadata": {},
   "outputs": [
    {
     "data": {
      "text/plain": [
       "0    15.6\n",
       "Name: Screen, dtype: float64"
      ]
     },
     "execution_count": 49,
     "metadata": {},
     "output_type": "execute_result"
    }
   ],
   "source": [
    "df[\"Screen\"].mode()"
   ]
  },
  {
   "cell_type": "code",
   "execution_count": 50,
   "id": "6b7939b3-860b-45fc-bbd3-db938e0f5166",
   "metadata": {},
   "outputs": [
    {
     "name": "stderr",
     "output_type": "stream",
     "text": [
      "C:\\Users\\malia\\AppData\\Local\\Temp\\ipykernel_17172\\1609677749.py:1: FutureWarning: A value is trying to be set on a copy of a DataFrame or Series through chained assignment using an inplace method.\n",
      "The behavior will change in pandas 3.0. This inplace method will never work because the intermediate object on which we are setting values always behaves as a copy.\n",
      "\n",
      "For example, when doing 'df[col].method(value, inplace=True)', try using 'df.method({col: value}, inplace=True)' or df[col] = df[col].method(value) instead, to perform the operation inplace on the original object.\n",
      "\n",
      "\n",
      "  df[\"Screen\"].fillna(df[\"Screen\"].mode()[0],inplace=True)\n"
     ]
    }
   ],
   "source": [
    "df[\"Screen\"].fillna(df[\"Screen\"].mode()[0],inplace=True)"
   ]
  },
  {
   "cell_type": "code",
   "execution_count": 51,
   "id": "dd9a5ba4-a3d7-4e5a-9fca-d02db2ec0350",
   "metadata": {},
   "outputs": [
    {
     "name": "stdout",
     "output_type": "stream",
     "text": [
      "<class 'pandas.core.frame.DataFrame'>\n",
      "RangeIndex: 2160 entries, 0 to 2159\n",
      "Data columns (total 12 columns):\n",
      " #   Column        Non-Null Count  Dtype  \n",
      "---  ------        --------------  -----  \n",
      " 0   Laptop        2160 non-null   object \n",
      " 1   Status        2160 non-null   object \n",
      " 2   Brand         2160 non-null   object \n",
      " 3   Model         2160 non-null   object \n",
      " 4   CPU           2160 non-null   object \n",
      " 5   RAM           2160 non-null   int64  \n",
      " 6   Storage       2160 non-null   int64  \n",
      " 7   Storage type  2118 non-null   object \n",
      " 8   GPU           789 non-null    object \n",
      " 9   Screen        2160 non-null   float64\n",
      " 10  Touch         2160 non-null   object \n",
      " 11  Final Price   2160 non-null   float64\n",
      "dtypes: float64(2), int64(2), object(8)\n",
      "memory usage: 202.6+ KB\n"
     ]
    }
   ],
   "source": [
    "df.info()"
   ]
  },
  {
   "cell_type": "code",
   "execution_count": 52,
   "id": "c9901db4-b97b-417b-a74e-51d6e1e0718b",
   "metadata": {},
   "outputs": [
    {
     "data": {
      "text/plain": [
       "np.float64(15.6)"
      ]
     },
     "execution_count": 52,
     "metadata": {},
     "output_type": "execute_result"
    }
   ],
   "source": [
    "df[\"Screen\"].median()"
   ]
  },
  {
   "cell_type": "code",
   "execution_count": 60,
   "id": "01a60fc3-84da-454c-830e-faba2f8b1b42",
   "metadata": {},
   "outputs": [
    {
     "data": {
      "text/plain": [
       "np.float64(91.2998806299555)"
      ]
     },
     "execution_count": 60,
     "metadata": {},
     "output_type": "execute_result"
    }
   ],
   "source": [
    "X = df[df[\"Brand\"] == \"Innjoo\"][[\"RAM\",\"Storage\", \"Screen\"]].to_numpy()\n",
    "XTX = np.dot(X.T,X)\n",
    "XTX_inv = np.linalg.inv(XTX)\n",
    "y = [1100, 1300, 800, 900, 1000, 1100]\n",
    "w = np.dot(XTX_inv , X.T) @ y\n",
    "sum(w)"
   ]
  }
 ],
 "metadata": {
  "kernelspec": {
   "display_name": "Python 3 (ipykernel)",
   "language": "python",
   "name": "python3"
  },
  "language_info": {
   "codemirror_mode": {
    "name": "ipython",
    "version": 3
   },
   "file_extension": ".py",
   "mimetype": "text/x-python",
   "name": "python",
   "nbconvert_exporter": "python",
   "pygments_lexer": "ipython3",
   "version": "3.11.9"
  }
 },
 "nbformat": 4,
 "nbformat_minor": 5
}
