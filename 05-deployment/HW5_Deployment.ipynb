{
 "cells": [
  {
   "cell_type": "code",
   "execution_count": 1,
   "id": "862c3bd7-c3a2-4447-9e0e-3e839b9f05f7",
   "metadata": {},
   "outputs": [],
   "source": [
    "#!pip install pipenv"
   ]
  },
  {
   "cell_type": "code",
   "execution_count": 2,
   "id": "ddbe6c00-8e31-489a-8ea4-9da2343d0bbd",
   "metadata": {},
   "outputs": [
    {
     "name": "stdout",
     "output_type": "stream",
     "text": [
      "pipenv, version 2024.1.0\n"
     ]
    }
   ],
   "source": [
    "!pipenv --version"
   ]
  },
  {
   "cell_type": "code",
   "execution_count": 3,
   "id": "2108fff9-03df-47d7-9231-7e87147993bf",
   "metadata": {},
   "outputs": [],
   "source": [
    "#!pipenv install scikit-learn==1.5.2"
   ]
  },
  {
   "cell_type": "code",
   "execution_count": 4,
   "id": "75742b16-fc5a-48ba-9015-cfaf52b7ebd9",
   "metadata": {},
   "outputs": [
    {
     "name": "stdout",
     "output_type": "stream",
     "text": [
      "{\n",
      "    \"_meta\": {\n",
      "        \"hash\": {\n",
      "            \"sha256\": \"da9944f49a102baddf89fee85c44b4cf5c70ad335a979024b4cc6bb511344639\"\n",
      "        },\n",
      "        \"pipfile-spec\": 6,\n",
      "        \"requires\": {\n",
      "            \"python_version\": \"3.11\"\n",
      "        },\n",
      "        \"sources\": [\n",
      "            {\n",
      "                \"name\": \"pypi\",\n",
      "                \"url\": \"https://pypi.org/simple\",\n",
      "                \"verify_ssl\": true\n",
      "            }\n",
      "        ]\n",
      "    },\n",
      "    \"default\": {\n",
      "        \"joblib\": {\n",
      "            \"hashes\": [\n",
      "                \"sha256:06d478d5674cbc267e7496a410ee875abd68e4340feff4490bcb7afb88060ae6\",\n",
      "                \"sha256:2382c5816b2636fbd20a09e0f4e9dad4736765fdfb7dca582943b9c1366b3f0e\"\n",
      "            ],\n",
      "            \"markers\": \"python_version >= '3.8'\",\n",
      "            \"version\": \"==1.4.2\"\n",
      "        },\n",
      "        \"numpy\": {\n",
      "            \"hashes\": [\n",
      "                \"sha256:05b2d4e667895cc55e3ff2b56077e4c8a5604361fc21a042845ea3ad67465aa8\",\n",
      "                \"sha256:12edb90831ff481f7ef5f6bc6431a9d74dc0e5ff401559a71e5e4611d4f2d466\",\n",
      "                \"sha256:13311c2db4c5f7609b462bc0f43d3c465424d25c626d95040f073e30f7570e35\",\n",
      "                \"sha256:13532a088217fa624c99b843eeb54640de23b3414b14aa66d023805eb731066c\",\n",
      "                \"sha256:13602b3174432a35b16c4cfb5de9a12d229727c3dd47a6ce35111f2ebdf66ff4\",\n",
      "                \"sha256:1600068c262af1ca9580a527d43dc9d959b0b1d8e56f8a05d830eea39b7c8af6\",\n",
      "                \"sha256:1b8cde4f11f0a975d1fd59373b32e2f5a562ade7cde4f85b7137f3de8fbb29a0\",\n",
      "                \"sha256:1c193d0b0238638e6fc5f10f1b074a6993cb13b0b431f64079a509d63d3aa8b7\",\n",
      "                \"sha256:1ebec5fd716c5a5b3d8dfcc439be82a8407b7b24b230d0ad28a81b61c2f4659a\",\n",
      "                \"sha256:242b39d00e4944431a3cd2db2f5377e15b5785920421993770cddb89992c3f3a\",\n",
      "                \"sha256:259ec80d54999cc34cd1eb8ded513cb053c3bf4829152a2e00de2371bd406f5e\",\n",
      "                \"sha256:2abbf905a0b568706391ec6fa15161fad0fb5d8b68d73c461b3c1bab6064dd62\",\n",
      "                \"sha256:2cbba4b30bf31ddbe97f1c7205ef976909a93a66bb1583e983adbd155ba72ac2\",\n",
      "                \"sha256:2ffef621c14ebb0188a8633348504a35c13680d6da93ab5cb86f4e54b7e922b5\",\n",
      "                \"sha256:30d53720b726ec36a7f88dc873f0eec8447fbc93d93a8f079dfac2629598d6ee\",\n",
      "                \"sha256:32e16a03138cabe0cb28e1007ee82264296ac0983714094380b408097a418cfe\",\n",
      "                \"sha256:43cca367bf94a14aca50b89e9bc2061683116cfe864e56740e083392f533ce7a\",\n",
      "                \"sha256:456e3b11cb79ac9946c822a56346ec80275eaf2950314b249b512896c0d2505e\",\n",
      "                \"sha256:4d6ec0d4222e8ffdab1744da2560f07856421b367928026fb540e1945f2eeeaf\",\n",
      "                \"sha256:5006b13a06e0b38d561fab5ccc37581f23c9511879be7693bd33c7cd15ca227c\",\n",
      "                \"sha256:675c741d4739af2dc20cd6c6a5c4b7355c728167845e3c6b0e824e4e5d36a6c3\",\n",
      "                \"sha256:6cdb606a7478f9ad91c6283e238544451e3a95f30fb5467fbf715964341a8a86\",\n",
      "                \"sha256:6d95f286b8244b3649b477ac066c6906fbb2905f8ac19b170e2175d3d799f4df\",\n",
      "                \"sha256:76322dcdb16fccf2ac56f99048af32259dcc488d9b7e25b51e5eca5147a3fb98\",\n",
      "                \"sha256:7c1c60328bd964b53f8b835df69ae8198659e2b9302ff9ebb7de4e5a5994db3d\",\n",
      "                \"sha256:860ec6e63e2c5c2ee5e9121808145c7bf86c96cca9ad396c0bd3e0f2798ccbe2\",\n",
      "                \"sha256:8e00ea6fc82e8a804433d3e9cedaa1051a1422cb6e443011590c14d2dea59146\",\n",
      "                \"sha256:9c6c754df29ce6a89ed23afb25550d1c2d5fdb9901d9c67a16e0b16eaf7e2550\",\n",
      "                \"sha256:a26ae94658d3ba3781d5e103ac07a876b3e9b29db53f68ed7df432fd033358a8\",\n",
      "                \"sha256:a65acfdb9c6ebb8368490dbafe83c03c7e277b37e6857f0caeadbbc56e12f4fb\",\n",
      "                \"sha256:a7d80b2e904faa63068ead63107189164ca443b42dd1930299e0d1cb041cec2e\",\n",
      "                \"sha256:a84498e0d0a1174f2b3ed769b67b656aa5460c92c9554039e11f20a05650f00d\",\n",
      "                \"sha256:ab4754d432e3ac42d33a269c8567413bdb541689b02d93788af4131018cbf366\",\n",
      "                \"sha256:ad369ed238b1959dfbade9018a740fb9392c5ac4f9b5173f420bd4f37ba1f7a0\",\n",
      "                \"sha256:b1d0fcae4f0949f215d4632be684a539859b295e2d0cb14f78ec231915d644db\",\n",
      "                \"sha256:b42a1a511c81cc78cbc4539675713bbcf9d9c3913386243ceff0e9429ca892fe\",\n",
      "                \"sha256:bd33f82e95ba7ad632bc57837ee99dba3d7e006536200c4e9124089e1bf42426\",\n",
      "                \"sha256:bdd407c40483463898b84490770199d5714dcc9dd9b792f6c6caccc523c00952\",\n",
      "                \"sha256:c6eef7a2dbd0abfb0d9eaf78b73017dbfd0b54051102ff4e6a7b2980d5ac1a03\",\n",
      "                \"sha256:c82af4b2ddd2ee72d1fc0c6695048d457e00b3582ccde72d8a1c991b808bb20f\",\n",
      "                \"sha256:d666cb72687559689e9906197e3bec7b736764df6a2e58ee265e360663e9baf7\",\n",
      "                \"sha256:d7bf0a4f9f15b32b5ba53147369e94296f5fffb783db5aacc1be15b4bf72f43b\",\n",
      "                \"sha256:d82075752f40c0ddf57e6e02673a17f6cb0f8eb3f587f63ca1eaab5594da5b17\",\n",
      "                \"sha256:da65fb46d4cbb75cb417cddf6ba5e7582eb7bb0b47db4b99c9fe5787ce5d91f5\",\n",
      "                \"sha256:e2b49c3c0804e8ecb05d59af8386ec2f74877f7ca8fd9c1e00be2672e4d399b1\",\n",
      "                \"sha256:e585c8ae871fd38ac50598f4763d73ec5497b0de9a0ab4ef5b69f01c6a046142\",\n",
      "                \"sha256:e8d3ca0a72dd8846eb6f7dfe8f19088060fcb76931ed592d29128e0219652884\",\n",
      "                \"sha256:ef444c57d664d35cac4e18c298c47d7b504c66b17c2ea91312e979fcfbdfb08a\",\n",
      "                \"sha256:f1eb068ead09f4994dec71c24b2844f1e4e4e013b9629f812f292f04bd1510d9\",\n",
      "                \"sha256:f2ded8d9b6f68cc26f8425eda5d3877b47343e68ca23d0d0846f4d312ecaa445\",\n",
      "                \"sha256:f751ed0a2f250541e19dfca9f1eafa31a392c71c832b6bb9e113b10d050cb0f1\",\n",
      "                \"sha256:faa88bc527d0f097abdc2c663cddf37c05a1c2f113716601555249805cf573f1\",\n",
      "                \"sha256:fc44e3c68ff00fd991b59092a54350e6e4911152682b4782f68070985aa9e648\"\n",
      "            ],\n",
      "            \"markers\": \"python_version >= '3.10'\",\n",
      "            \"version\": \"==2.1.2\"\n",
      "        },\n",
      "        \"scikit-learn\": {\n",
      "            \"hashes\": [\n",
      "                \"sha256:03b6158efa3faaf1feea3faa884c840ebd61b6484167c711548fce208ea09445\",\n",
      "                \"sha256:178ddd0a5cb0044464fc1bfc4cca5b1833bfc7bb022d70b05db8530da4bb3dd3\",\n",
      "                \"sha256:1ff45e26928d3b4eb767a8f14a9a6efbf1cbff7c05d1fb0f95f211a89fd4f5de\",\n",
      "                \"sha256:299406827fb9a4f862626d0fe6c122f5f87f8910b86fe5daa4c32dcd742139b6\",\n",
      "                \"sha256:2d4cad1119c77930b235579ad0dc25e65c917e756fe80cab96aa3b9428bd3fb0\",\n",
      "                \"sha256:394397841449853c2290a32050382edaec3da89e35b3e03d6cc966aebc6a8ae6\",\n",
      "                \"sha256:3a686885a4b3818d9e62904d91b57fa757fc2bed3e465c8b177be652f4dd37c8\",\n",
      "                \"sha256:3b923d119d65b7bd555c73be5423bf06c0105678ce7e1f558cb4b40b0a5502b1\",\n",
      "                \"sha256:3bed4909ba187aca80580fe2ef370d9180dcf18e621a27c4cf2ef10d279a7efe\",\n",
      "                \"sha256:52788f48b5d8bca5c0736c175fa6bdaab2ef00a8f536cda698db61bd89c551c1\",\n",
      "                \"sha256:57cc1786cfd6bd118220a92ede80270132aa353647684efa385a74244a41e3b1\",\n",
      "                \"sha256:643964678f4b5fbdc95cbf8aec638acc7aa70f5f79ee2cdad1eec3df4ba6ead8\",\n",
      "                \"sha256:6c16d84a0d45e4894832b3c4d0bf73050939e21b99b01b6fd59cbb0cf39163b6\",\n",
      "                \"sha256:757c7d514ddb00ae249832fe87100d9c73c6ea91423802872d9e74970a0e40b9\",\n",
      "                \"sha256:8c412ccc2ad9bf3755915e3908e677b367ebc8d010acbb3f182814524f2e5540\",\n",
      "                \"sha256:b0768ad641981f5d3a198430a1d31c3e044ed2e8a6f22166b4d546a5116d7908\",\n",
      "                \"sha256:b4237ed7b3fdd0a4882792e68ef2545d5baa50aca3bb45aa7df468138ad8f94d\",\n",
      "                \"sha256:b7b0f9a0b1040830d38c39b91b3a44e1b643f4b36e36567b80b7c6bd2202a27f\",\n",
      "                \"sha256:c15b1ca23d7c5f33cc2cb0a0d6aaacf893792271cddff0edbd6a40e8319bc113\",\n",
      "                \"sha256:ca64b3089a6d9b9363cd3546f8978229dcbb737aceb2c12144ee3f70f95684b7\",\n",
      "                \"sha256:e9a702e2de732bbb20d3bad29ebd77fc05a6b427dc49964300340e4c9328b3f5\",\n",
      "                \"sha256:f60021ec1574e56632be2a36b946f8143bf4e5e6af4a06d85281adc22938e0dd\",\n",
      "                \"sha256:f7284ade780084d94505632241bf78c44ab3b6f1e8ccab3d2af58e0e950f9c12\",\n",
      "                \"sha256:f763897fe92d0e903aa4847b0aec0e68cadfff77e8a0687cabd946c89d17e675\",\n",
      "                \"sha256:f8b0ccd4a902836493e026c03256e8b206656f91fbcc4fde28c57a5b752561f1\",\n",
      "                \"sha256:f932a02c3f4956dfb981391ab24bda1dbd90fe3d628e4b42caef3e041c67707a\"\n",
      "            ],\n",
      "            \"index\": \"pypi\",\n",
      "            \"markers\": \"python_version >= '3.9'\",\n",
      "            \"version\": \"==1.5.2\"\n",
      "        },\n",
      "        \"scipy\": {\n",
      "            \"hashes\": [\n",
      "                \"sha256:0c2f95de3b04e26f5f3ad5bb05e74ba7f68b837133a4492414b3afd79dfe540e\",\n",
      "                \"sha256:1729560c906963fc8389f6aac023739ff3983e727b1a4d87696b7bf108316a79\",\n",
      "                \"sha256:278266012eb69f4a720827bdd2dc54b2271c97d84255b2faaa8f161a158c3b37\",\n",
      "                \"sha256:2843f2d527d9eebec9a43e6b406fb7266f3af25a751aa91d62ff416f54170bc5\",\n",
      "                \"sha256:2da0469a4ef0ecd3693761acbdc20f2fdeafb69e6819cc081308cc978153c675\",\n",
      "                \"sha256:2ff0a7e01e422c15739ecd64432743cf7aae2b03f3084288f399affcefe5222d\",\n",
      "                \"sha256:2ff38e22128e6c03ff73b6bb0f85f897d2362f8c052e3b8ad00532198fbdae3f\",\n",
      "                \"sha256:30ac8812c1d2aab7131a79ba62933a2a76f582d5dbbc695192453dae67ad6310\",\n",
      "                \"sha256:3a1b111fac6baec1c1d92f27e76511c9e7218f1695d61b59e05e0fe04dc59617\",\n",
      "                \"sha256:4079b90df244709e675cdc8b93bfd8a395d59af40b72e339c2287c91860deb8e\",\n",
      "                \"sha256:5149e3fd2d686e42144a093b206aef01932a0059c2a33ddfa67f5f035bdfe13e\",\n",
      "                \"sha256:5a275584e726026a5699459aa72f828a610821006228e841b94275c4a7c08417\",\n",
      "                \"sha256:631f07b3734d34aced009aaf6fedfd0eb3498a97e581c3b1e5f14a04164a456d\",\n",
      "                \"sha256:716e389b694c4bb564b4fc0c51bc84d381735e0d39d3f26ec1af2556ec6aad94\",\n",
      "                \"sha256:8426251ad1e4ad903a4514712d2fa8fdd5382c978010d1c6f5f37ef286a713ad\",\n",
      "                \"sha256:8475230e55549ab3f207bff11ebfc91c805dc3463ef62eda3ccf593254524ce8\",\n",
      "                \"sha256:8bddf15838ba768bb5f5083c1ea012d64c9a444e16192762bd858f1e126196d0\",\n",
      "                \"sha256:8e32dced201274bf96899e6491d9ba3e9a5f6b336708656466ad0522d8528f69\",\n",
      "                \"sha256:8f9ea80f2e65bdaa0b7627fb00cbeb2daf163caa015e59b7516395fe3bd1e066\",\n",
      "                \"sha256:97c5dddd5932bd2a1a31c927ba5e1463a53b87ca96b5c9bdf5dfd6096e27efc3\",\n",
      "                \"sha256:a49f6ed96f83966f576b33a44257d869756df6cf1ef4934f59dd58b25e0327e5\",\n",
      "                \"sha256:af29a935803cc707ab2ed7791c44288a682f9c8107bc00f0eccc4f92c08d6e07\",\n",
      "                \"sha256:b05d43735bb2f07d689f56f7b474788a13ed8adc484a85aa65c0fd931cf9ccd2\",\n",
      "                \"sha256:b28d2ca4add7ac16ae8bb6632a3c86e4b9e4d52d3e34267f6e1b0c1f8d87e389\",\n",
      "                \"sha256:b99722ea48b7ea25e8e015e8341ae74624f72e5f21fc2abd45f3a93266de4c5d\",\n",
      "                \"sha256:baff393942b550823bfce952bb62270ee17504d02a1801d7fd0719534dfb9c84\",\n",
      "                \"sha256:c0ee987efa6737242745f347835da2cc5bb9f1b42996a4d97d5c7ff7928cb6f2\",\n",
      "                \"sha256:d0d2821003174de06b69e58cef2316a6622b60ee613121199cb2852a873f8cf3\",\n",
      "                \"sha256:e0cf28db0f24a38b2a0ca33a85a54852586e43cf6fd876365c86e0657cfe7d73\",\n",
      "                \"sha256:e4f5a7c49323533f9103d4dacf4e4f07078f360743dec7f7596949149efeec06\",\n",
      "                \"sha256:eb58ca0abd96911932f688528977858681a59d61a7ce908ffd355957f7025cfc\",\n",
      "                \"sha256:edaf02b82cd7639db00dbff629995ef185c8df4c3ffa71a5562a595765a06ce1\",\n",
      "                \"sha256:fef8c87f8abfb884dac04e97824b61299880c43f4ce675dd2cbeadd3c9b466d2\"\n",
      "            ],\n",
      "            \"markers\": \"python_version >= '3.10'\",\n",
      "            \"version\": \"==1.14.1\"\n",
      "        },\n",
      "        \"threadpoolctl\": {\n",
      "            \"hashes\": [\n",
      "                \"sha256:082433502dd922bf738de0d8bcc4fdcbf0979ff44c42bd40f5af8a282f6fa107\",\n",
      "                \"sha256:56c1e26c150397e58c4926da8eeee87533b1e32bef131bd4bf6a2f45f3185467\"\n",
      "            ],\n",
      "            \"markers\": \"python_version >= '3.8'\",\n",
      "            \"version\": \"==3.5.0\"\n",
      "        }\n",
      "    },\n",
      "    \"develop\": {}\n",
      "}\n",
      "\n"
     ]
    }
   ],
   "source": [
    "with open('Pipfile.lock', 'r') as f:\n",
    "    print(f.read())"
   ]
  },
  {
   "cell_type": "markdown",
   "id": "f9f9a0f5-1825-487a-8827-5b49737b240d",
   "metadata": {},
   "source": [
    "scikit-learn\": {\n",
    "            \"hashes\": [\n",
    "                \"sha256:03b6158efa3faaf1feea3faa884c840ebd61b6484167c711548fce208ea09445\",\n",
    "                \"sha256:178ddd0a5cb0044464fc1bfc4cca5b1833bfc7bb022d70b05db8530da4bb3dd3\",\n",
    "                \"sha256:1ff45e26928d3b4eb767a8f14a9a6efbf1cbff7c05d1fb0f95f211a89fd4f5de\",\n",
    "                \"sha256:299406827fb9a4f862626d0fe6c122f5f87f8910b86fe5daa4c32dcd742139b6\",\n",
    "                \"sha256:2d4cad1119c77930b235579ad0dc25e65c917e756fe80cab96aa3b9428bd3fb0\",\n",
    "                \"sha256:394397841449853c2290a32050382edaec3da89e35b3e03d6cc966aebc6a8ae6\",\n",
    "                \"sha256:3a686885a4b3818d9e62904d91b57fa757fc2bed3e465c8b177be652f4dd37c8\",\n",
    "                \"sha256:3b923d119d65b7bd555c73be5423bf06c0105678ce7e1f558cb4b40b0a5502b1\",\n",
    "                \"sha256:3bed4909ba187aca80580fe2ef370d9180dcf18e621a27c4cf2ef10d279a7efe\",\n",
    "                \"sha256:52788f48b5d8bca5c0736c175fa6bdaab2ef00a8f536cda698db61bd89c551c1\",\n",
    "                \"sha256:57cc1786cfd6bd118220a92ede80270132aa353647684efa385a74244a41e3b1\",\n",
    "                \"sha256:643964678f4b5fbdc95cbf8aec638acc7aa70f5f79ee2cdad1eec3df4ba6ead8\",\n",
    "                \"sha256:6c16d84a0d45e4894832b3c4d0bf73050939e21b99b01b6fd59cbb0cf39163b6\",\n",
    "                \"sha256:757c7d514ddb00ae249832fe87100d9c73c6ea91423802872d9e74970a0e40b9\",\n",
    "                \"sha256:8c412ccc2ad9bf3755915e3908e677b367ebc8d010acbb3f182814524f2e5540\",\n",
    "                \"sha256:b0768ad641981f5d3a198430a1d31c3e044ed2e8a6f22166b4d546a5116d7908\",\n",
    "                \"sha256:b4237ed7b3fdd0a4882792e68ef2545d5baa50aca3bb45aa7df468138ad8f94d\",\n",
    "                \"sha256:b7b0f9a0b1040830d38c39b91b3a44e1b643f4b36e36567b80b7c6bd2202a27f\",\n",
    "                \"sha256:c15b1ca23d7c5f33cc2cb0a0d6aaacf893792271cddff0edbd6a40e8319bc113\",\n",
    "                \"sha256:ca64b3089a6d9b9363cd3546f8978229dcbb737aceb2c12144ee3f70f95684b7\",\n",
    "                \"sha256:e9a702e2de732bbb20d3bad29ebd77fc05a6b427dc49964300340e4c9328b3f5\",\n",
    "                \"sha256:f60021ec1574e56632be2a36b946f8143bf4e5e6af4a06d85281adc22938e0dd\",\n",
    "                \"sha256:f7284ade780084d94505632241bf78c44ab3b6f1e8ccab3d2af58e0e950f9c12\",\n",
    "                \"sha256:f763897fe92d0e903aa4847b0aec0e68cadfff77e8a0687cabd946c89d17e675\",\n",
    "                \"sha256:f8b0ccd4a902836493e026c03256e8b206656f91fbcc4fde28c57a5b752561f1\",\n",
    "                \"sha256:f932a02c3f4956dfb981391ab24bda1dbd90fe3d628e4b42caef3e041c67707a\"\n",
    "            ],"
   ]
  },
  {
   "cell_type": "code",
   "execution_count": 5,
   "id": "1e26fa21-b8d6-4516-91fa-38c2ebe51788",
   "metadata": {},
   "outputs": [],
   "source": [
    "# import requests\n",
    "\n",
    "# PREFIX = \"https://raw.githubusercontent.com/DataTalksClub/machine-learning-zoomcamp/master/cohorts/2024/5-deployment/homework\"\n",
    "\n",
    "# response = requests.get(f\"{PREFIX}/model1.bin\")\n",
    "# with open(\"model1.bin\", \"wb\") as f:\n",
    "#     f.write(response.content)\n",
    "    \n",
    "# response = requests.get(f\"{PREFIX}/div.bin\")\n",
    "# with open(\"dv.bin\", \"wb\") as f:\n",
    "#     f.write(response.content)"
   ]
  },
  {
   "cell_type": "code",
   "execution_count": 6,
   "id": "8e6a25ff-cbaa-425c-82d4-e2db2a32bfd3",
   "metadata": {},
   "outputs": [],
   "source": [
    "import pickle\n",
    "\n",
    "# Load the models\n",
    "with open(\"dv.bin\", \"rb\") as f:\n",
    "    dv = pickle.load(f)\n",
    "\n",
    "with open(\"model1.bin\", \"rb\") as f:\n",
    "    model = pickle.load(f)"
   ]
  },
  {
   "cell_type": "code",
   "execution_count": 7,
   "id": "b7a55c6e-2a1e-4795-a2d2-85a5dad7c263",
   "metadata": {},
   "outputs": [
    {
     "data": {
      "text/plain": [
       "(LogisticRegression(max_iter=250), DictVectorizer(sparse=False))"
      ]
     },
     "execution_count": 7,
     "metadata": {},
     "output_type": "execute_result"
    }
   ],
   "source": [
    "model,dv"
   ]
  },
  {
   "cell_type": "code",
   "execution_count": 8,
   "id": "3df3270d-daa0-435d-a27e-4b3ad52d9e96",
   "metadata": {},
   "outputs": [],
   "source": [
    "customer = {\"job\": \"management\", \"duration\": 400, \"poutcome\": \"success\"}"
   ]
  },
  {
   "cell_type": "code",
   "execution_count": 9,
   "id": "b779fe73-7f6d-4b1e-b80c-c6bca05ae472",
   "metadata": {},
   "outputs": [],
   "source": [
    "X = dv.transform([customer])"
   ]
  },
  {
   "cell_type": "code",
   "execution_count": 10,
   "id": "7096bf41-2c83-4063-9782-a280686bb267",
   "metadata": {},
   "outputs": [
    {
     "data": {
      "text/plain": [
       "array([[400.,   0.,   0.,   0.,   0.,   1.,   0.,   0.,   0.,   0.,   0.,\n",
       "          0.,   0.,   0.,   0.,   1.,   0.]])"
      ]
     },
     "execution_count": 10,
     "metadata": {},
     "output_type": "execute_result"
    }
   ],
   "source": [
    "X"
   ]
  },
  {
   "cell_type": "code",
   "execution_count": 12,
   "id": "7f54524d-a6e0-45ec-8e02-1f369dfd1dd9",
   "metadata": {},
   "outputs": [
    {
     "data": {
      "text/plain": [
       "np.float64(0.7590966516879658)"
      ]
     },
     "execution_count": 12,
     "metadata": {},
     "output_type": "execute_result"
    }
   ],
   "source": [
    "model.predict_proba(X)[0,1]"
   ]
  },
  {
   "cell_type": "code",
   "execution_count": 13,
   "id": "b7ed4e76-2d7e-4329-9252-77ebf67b4e4a",
   "metadata": {},
   "outputs": [],
   "source": [
    "from flask import Flask"
   ]
  }
 ],
 "metadata": {
  "kernelspec": {
   "display_name": "Python 3 (ipykernel)",
   "language": "python",
   "name": "python3"
  },
  "language_info": {
   "codemirror_mode": {
    "name": "ipython",
    "version": 3
   },
   "file_extension": ".py",
   "mimetype": "text/x-python",
   "name": "python",
   "nbconvert_exporter": "python",
   "pygments_lexer": "ipython3",
   "version": "3.11.9"
  }
 },
 "nbformat": 4,
 "nbformat_minor": 5
}
